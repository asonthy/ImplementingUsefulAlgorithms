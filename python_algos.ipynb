{
  "nbformat": 4,
  "nbformat_minor": 0,
  "metadata": {
    "colab": {
      "provenance": [],
      "authorship_tag": "ABX9TyN9feyjP2GwSs57cSZczjEE",
      "include_colab_link": true
    },
    "kernelspec": {
      "name": "python3",
      "display_name": "Python 3"
    },
    "language_info": {
      "name": "python"
    }
  },
  "cells": [
    {
      "cell_type": "markdown",
      "metadata": {
        "id": "view-in-github",
        "colab_type": "text"
      },
      "source": [
        "<a href=\"https://colab.research.google.com/github/asonthy/ImplementingUsefulAlgorithms/blob/master/python_algos.ipynb\" target=\"_parent\"><img src=\"https://colab.research.google.com/assets/colab-badge.svg\" alt=\"Open In Colab\"/></a>"
      ]
    },
    {
      "cell_type": "code",
      "execution_count": 5,
      "metadata": {
        "id": "EvZA0dRPTmRa"
      },
      "outputs": [],
      "source": [
        "# @title Sum of 3 Values\n",
        "\n",
        "def find_sum_of_three(nums: list[int], target: int) -> list[int]:\n",
        "\n",
        "  nums.sort()\n",
        "\n"
      ]
    },
    {
      "cell_type": "code",
      "source": [
        "# @title Test Driver For sum of 3 values\n",
        "\n",
        "nums = [12, 3, 1, 2, -6, 5, -8, 6]\n",
        "target = 0\n",
        "res = find_sum_of_three(nums, target)\n",
        "print(res)"
      ],
      "metadata": {
        "colab": {
          "base_uri": "https://localhost:8080/"
        },
        "id": "ONwoXrmkU4Oz",
        "outputId": "d44fda95-b981-4aca-9c44-ebde61615cca"
      },
      "execution_count": 6,
      "outputs": [
        {
          "output_type": "stream",
          "name": "stdout",
          "text": [
            "[12, 3, 1, 2, -6, 5, -8, 6]\n",
            "0\n",
            "[-8, -6, 1, 2, 3, 5, 6, 12]\n",
            "[-8, -6, 1, 2, 3, 5, 6, 12]\n"
          ]
        }
      ]
    }
  ]
}